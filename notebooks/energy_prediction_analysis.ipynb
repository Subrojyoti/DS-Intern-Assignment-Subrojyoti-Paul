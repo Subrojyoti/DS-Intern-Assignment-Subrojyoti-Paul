{
 "cells": [
  {
   "cell_type": "code",
   "execution_count": 1,
   "id": "ffccfaf1",
   "metadata": {},
   "outputs": [
    {
     "name": "stderr",
     "output_type": "stream",
     "text": [
      "Matplotlib is building the font cache; this may take a moment.\n"
     ]
    }
   ],
   "source": [
    "# Import necessary libraries\n",
    "import pandas as pd\n",
    "import numpy as np\n",
    "import matplotlib.pyplot as plt\n",
    "import seaborn as sns\n",
    "from sklearn.model_selection import train_test_split, GridSearchCV, cross_val_score\n",
    "from sklearn.preprocessing import StandardScaler, OneHotEncoder # Keep OneHotEncoder if you might need it\n",
    "from sklearn.compose import ColumnTransformer\n",
    "from sklearn.pipeline import Pipeline\n",
    "from sklearn.linear_model import LinearRegression, Ridge, Lasso\n",
    "from sklearn.ensemble import RandomForestRegressor, GradientBoostingRegressor\n",
    "# from sklearn.svm import SVR # Example: if you want to try SVR\n",
    "# import xgboost as xgb\n",
    "from sklearn.metrics import mean_squared_error, mean_absolute_error, r2_score\n",
    "import datetime\n",
    "\n",
    "# Setting some display options for pandas\n",
    "pd.set_option('display.max_columns', None)\n",
    "pd.set_option('display.width', 1000)\n",
    "\n",
    "# Plot settings\n",
    "plt.style.use('ggplot')\n",
    "sns.set_palette(\"deep\")"
   ]
  },
  {
   "cell_type": "code",
   "execution_count": 2,
   "id": "99b21e29",
   "metadata": {},
   "outputs": [
    {
     "name": "stdout",
     "output_type": "stream",
     "text": [
      "Data loaded successfully!\n"
     ]
    }
   ],
   "source": [
    "# --- Data Loading ---\n",
    "try:\n",
    "    df = pd.read_csv('../data/data.csv') # Note the '../' to go up one level from 'notebooks/' to 'data/'\n",
    "    print(\"Data loaded successfully!\")\n",
    "except FileNotFoundError:\n",
    "    print(\"Error: '../data/data.csv' not found. Make sure the path is correct relative to the 'notebooks' directory.\")\n",
    "    # In a real scenario, you might want to exit or handle this more gracefully\n",
    "    df = pd.DataFrame() # Create an empty DataFrame to prevent subsequent errors if file not found"
   ]
  },
  {
   "cell_type": "code",
   "execution_count": 3,
   "id": "e69bb120",
   "metadata": {},
   "outputs": [
    {
     "name": "stdout",
     "output_type": "stream",
     "text": [
      "--- First 5 Rows ---\n",
      "             timestamp equipment_energy_consumption     lighting_energy  zone1_temperature     zone1_humidity zone2_temperature  zone2_humidity  zone3_temperature  zone3_humidity  zone4_temperature  zone4_humidity  zone5_temperature  zone5_humidity  zone6_temperature  zone6_humidity  zone7_temperature  zone7_humidity  zone8_temperature  zone8_humidity  zone9_temperature  zone9_humidity  outdoor_temperature  atmospheric_pressure  outdoor_humidity  wind_speed  visibility_index  dew_point  random_variable1  random_variable2\n",
      "0  2016-01-11 17:00:00                         60.0  -77.78778596503064  33.74660933896648  47.59666666666671              19.2       44.790000              19.79             NaN          19.000000       45.566667          17.166667           55.20                NaN       84.256667          17.200000       41.626667               18.2       48.900000          17.033333           45.53             6.600000                 733.5              92.0    7.000000         63.000000   5.300000         13.275433         13.275433\n",
      "1  2016-01-11 17:10:00                         60.0                30.0              19.89  46.69333333333329              19.2       44.722500              19.79       44.790000          19.000000       45.992500          17.166667           55.20           6.833333       84.063333          17.200000             NaN               18.2       48.863333          17.066667           45.56             6.483333                 733.6              92.0    6.666667         59.166667   5.200000         18.606195         18.606195\n",
      "2  2016-01-11 17:20:00                         50.0                30.0              19.89               46.3              19.2       44.626667              19.79       44.933333          35.921144       45.890000                NaN           55.09           6.560000       83.156667          17.200000       41.433333               18.2       48.730000          17.000000           45.50             6.366667                 733.7              92.0    6.333333         55.333333   5.100000         28.642668         28.642668\n",
      "3  2016-01-11 17:30:00                         50.0                40.0  33.74660933896648   46.0666666666667              19.2       44.590000              19.79       45.000000                NaN       45.723333          17.166667           55.09           6.433333       83.423333          17.133333       41.290000               18.1       94.385668          17.000000           45.40             6.250000                 733.8              92.0    6.000000         51.500000  37.673716         45.410389         45.410389\n",
      "4  2016-01-11 17:40:00                         60.0                40.0              19.89  46.33333333333329              19.2       44.530000              19.79       45.000000          18.890000       45.530000          17.200000           55.09           6.366667       84.893333          17.200000       41.230000               18.1       48.590000           4.476511           45.40             6.133333                 733.9              92.0    5.666667         47.666667   4.900000         10.084097         10.084097\n",
      "\n",
      "--- Data Info ---\n",
      "<class 'pandas.core.frame.DataFrame'>\n",
      "RangeIndex: 16857 entries, 0 to 16856\n",
      "Data columns (total 29 columns):\n",
      " #   Column                        Non-Null Count  Dtype  \n",
      "---  ------                        --------------  -----  \n",
      " 0   timestamp                     16857 non-null  object \n",
      " 1   equipment_energy_consumption  16013 non-null  object \n",
      " 2   lighting_energy               16048 non-null  object \n",
      " 3   zone1_temperature             15990 non-null  object \n",
      " 4   zone1_humidity                16056 non-null  object \n",
      " 5   zone2_temperature             16004 non-null  object \n",
      " 6   zone2_humidity                15990 non-null  float64\n",
      " 7   zone3_temperature             16055 non-null  float64\n",
      " 8   zone3_humidity                15979 non-null  float64\n",
      " 9   zone4_temperature             16041 non-null  float64\n",
      " 10  zone4_humidity                16076 non-null  float64\n",
      " 11  zone5_temperature             16019 non-null  float64\n",
      " 12  zone5_humidity                16056 non-null  float64\n",
      " 13  zone6_temperature             16009 non-null  float64\n",
      " 14  zone6_humidity                16010 non-null  float64\n",
      " 15  zone7_temperature             16063 non-null  float64\n",
      " 16  zone7_humidity                16052 non-null  float64\n",
      " 17  zone8_temperature             16009 non-null  float64\n",
      " 18  zone8_humidity                16080 non-null  float64\n",
      " 19  zone9_temperature             16084 non-null  float64\n",
      " 20  zone9_humidity                15969 non-null  float64\n",
      " 21  outdoor_temperature           16051 non-null  float64\n",
      " 22  atmospheric_pressure          16015 non-null  float64\n",
      " 23  outdoor_humidity              16058 non-null  float64\n",
      " 24  wind_speed                    16029 non-null  float64\n",
      " 25  visibility_index              16042 non-null  float64\n",
      " 26  dew_point                     16031 non-null  float64\n",
      " 27  random_variable1              16031 non-null  float64\n",
      " 28  random_variable2              16033 non-null  float64\n",
      "dtypes: float64(23), object(6)\n",
      "memory usage: 3.7+ MB\n",
      "\n",
      "--- Descriptive Statistics ---\n",
      "       zone2_humidity  zone3_temperature  zone3_humidity  zone4_temperature  zone4_humidity  zone5_temperature  zone5_humidity  zone6_temperature  zone6_humidity  zone7_temperature  zone7_humidity  zone8_temperature  zone8_humidity  zone9_temperature  zone9_humidity  outdoor_temperature  atmospheric_pressure  outdoor_humidity    wind_speed  visibility_index     dew_point  random_variable1  random_variable2\n",
      "count    15990.000000       16055.000000    15979.000000       16041.000000    16076.000000       16019.000000    16056.000000       16009.000000    16010.000000       16063.000000    16052.000000       16009.000000    16080.000000       16084.000000    15969.000000         16051.000000          16015.000000      16058.000000  16029.000000      16042.000000  16031.000000      16031.000000      16033.000000\n",
      "mean        39.494553          21.665733       38.201314          20.239922       37.945608          19.052613       50.289131           6.469934       59.162913          19.672472       34.032621          21.606344       41.853532          18.851085       40.318199             6.218582            755.757602         78.977595      4.195988         38.457150      2.783507         24.854981         25.093780\n",
      "std         10.129513           2.594309       10.144388           2.783050       10.769813           2.346158       18.722516           8.867993       52.657787           2.879815       11.345440           2.974989       12.301530           2.528783       11.168678             7.554684             13.643585         28.565660      4.409729         21.318655      6.094732         26.214960         25.523631\n",
      "min        -77.265503           6.543921      -71.406273           4.613485      -81.446225           5.921094     -141.640143         -42.987365     -353.393026           3.578021      -84.882898           4.502372      -94.385668           4.476511      -81.582494           -37.524768            678.159940       -221.668765    -20.929527        -82.329792    -32.098095       -120.170177       -120.409590\n",
      "25%         37.757500          20.533333       36.592500          19.266667       35.200000          18.061111       45.290000           2.930000       37.066667          18.500000       31.000000          20.500000       38.626667          17.890000       38.230000             3.000000            750.800000         71.000000      2.000000         29.000000      0.450000         12.179924         12.193789\n",
      "50%         40.293333          21.767500       38.400000          20.290000       38.090000          19.050000       48.854429           6.263333       62.766667          19.600000       34.230000          21.790000       42.040455          18.890000       40.363333             6.000000            756.200000         84.166667      4.000000         40.000000      2.750000         24.866978         24.834261\n",
      "75%         43.000000          22.760000       41.433333          21.356667       41.560833          20.100000       53.918333           9.690000       86.590000          21.000000       38.156667          22.790000       46.003889          20.200000       43.790000             9.250000            762.100000         91.988095      6.000000         40.000000      5.308333         37.950236         37.971764\n",
      "max         77.265503          36.823982       71.406273          35.921144       81.446225          32.157594      141.640143          55.932271      353.393026          35.712952       84.882898          38.626835       94.385668          33.238012       81.582494            49.853906            833.392675        221.668765     29.318719        159.606156     37.673716        170.156325        170.329617\n",
      "\n",
      "--- Missing Values ---\n",
      "timestamp                         0\n",
      "equipment_energy_consumption    844\n",
      "lighting_energy                 809\n",
      "zone1_temperature               867\n",
      "zone1_humidity                  801\n",
      "zone2_temperature               853\n",
      "zone2_humidity                  867\n",
      "zone3_temperature               802\n",
      "zone3_humidity                  878\n",
      "zone4_temperature               816\n",
      "zone4_humidity                  781\n",
      "zone5_temperature               838\n",
      "zone5_humidity                  801\n",
      "zone6_temperature               848\n",
      "zone6_humidity                  847\n",
      "zone7_temperature               794\n",
      "zone7_humidity                  805\n",
      "zone8_temperature               848\n",
      "zone8_humidity                  777\n",
      "zone9_temperature               773\n",
      "zone9_humidity                  888\n",
      "outdoor_temperature             806\n",
      "atmospheric_pressure            842\n",
      "outdoor_humidity                799\n",
      "wind_speed                      828\n",
      "visibility_index                815\n",
      "dew_point                       826\n",
      "random_variable1                826\n",
      "random_variable2                824\n",
      "dtype: int64\n"
     ]
    }
   ],
   "source": [
    "if not df.empty:\n",
    "    print(\"--- First 5 Rows ---\")\n",
    "    print(df.head())\n",
    "    print(\"\\n--- Data Info ---\")\n",
    "    df.info()\n",
    "    print(\"\\n--- Descriptive Statistics ---\")\n",
    "    print(df.describe())\n",
    "    print(\"\\n--- Missing Values ---\")\n",
    "    print(df.isnull().sum())\n",
    "else:\n",
    "    print(\"DataFrame is empty. Cannot perform initial inspection.\")"
   ]
  },
  {
   "cell_type": "code",
   "execution_count": null,
   "id": "20392287",
   "metadata": {},
   "outputs": [],
   "source": []
  }
 ],
 "metadata": {
  "kernelspec": {
   "display_name": ".venv",
   "language": "python",
   "name": "python3"
  },
  "language_info": {
   "codemirror_mode": {
    "name": "ipython",
    "version": 3
   },
   "file_extension": ".py",
   "mimetype": "text/x-python",
   "name": "python",
   "nbconvert_exporter": "python",
   "pygments_lexer": "ipython3",
   "version": "3.13.2"
  }
 },
 "nbformat": 4,
 "nbformat_minor": 5
}
